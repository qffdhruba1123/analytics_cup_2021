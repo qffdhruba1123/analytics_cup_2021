{
 "cells": [
  {
   "cell_type": "code",
   "execution_count": 208,
   "metadata": {},
   "outputs": [],
   "source": [
    "import numpy as np\n",
    "import pandas as pd\n",
    "from matplotlib import pyplot as plt\n",
    "\n",
    "from datetime import date\n",
    "from datetime import datetime\n",
    "import calendar\n",
    "import os\n",
    "import re\n",
    "\n",
    "\n",
    "from scipy import stats\n",
    "from sklearn.neighbors import KernelDensity\n",
    "import matplotlib.colors as mcolors\n",
    "from matplotlib.animation import FuncAnimation, PillowWriter\n",
    "\n",
    "import seaborn as sns\n",
    "from pathlib import Path\n",
    "from tqdm import tqdm_notebook, trange, tqdm\n",
    "from PIL import Image, ImageDraw\n",
    "import io\n",
    "import random as r\n",
    "\n",
    "from matplotlib.widgets import Slider, Button, RadioButtons\n",
    "from __future__ import print_function\n",
    "from ipywidgets import interact, interactive, fixed, interact_manual\n",
    "import ipywidgets as widgets\n",
    "\n",
    "from sklearn.ensemble import RandomForestClassifier\n",
    "from sklearn.tree import DecisionTreeClassifier\n",
    "from sklearn import preprocessing\n",
    "# For downsampling\n",
    "from sklearn.utils import resample,shuffle\n",
    "\n",
    "np.random.seed(2021)"
   ]
  },
  {
   "cell_type": "code",
   "execution_count": 209,
   "metadata": {},
   "outputs": [
    {
     "name": "stderr",
     "output_type": "stream",
     "text": [
      "c:\\python38\\lib\\site-packages\\IPython\\core\\interactiveshell.py:3146: DtypeWarning: Columns (26,27,28) have mixed types.Specify dtype option on import or set low_memory=False.\n",
      "  has_raised = await self.run_ast_nodes(code_ast.body, cell_name,\n"
     ]
    }
   ],
   "source": [
    "df_companies = pd.read_csv(\"./data/companies.csv\")\n",
    "df_payments = pd.read_csv(\"./data/payments.csv\")\n",
    "df_physicians = pd.read_csv(\"./data/physicians.csv\")"
   ]
  },
  {
   "cell_type": "code",
   "execution_count": 210,
   "metadata": {},
   "outputs": [
    {
     "data": {
      "text/html": [
       "<div>\n",
       "<style scoped>\n",
       "    .dataframe tbody tr th:only-of-type {\n",
       "        vertical-align: middle;\n",
       "    }\n",
       "\n",
       "    .dataframe tbody tr th {\n",
       "        vertical-align: top;\n",
       "    }\n",
       "\n",
       "    .dataframe thead th {\n",
       "        text-align: right;\n",
       "    }\n",
       "</style>\n",
       "<table border=\"1\" class=\"dataframe\">\n",
       "  <thead>\n",
       "    <tr style=\"text-align: right;\">\n",
       "      <th></th>\n",
       "      <th>Company_ID</th>\n",
       "      <th>Name</th>\n",
       "      <th>State</th>\n",
       "      <th>Country</th>\n",
       "    </tr>\n",
       "  </thead>\n",
       "  <tbody>\n",
       "    <tr>\n",
       "      <th>0</th>\n",
       "      <td>1</td>\n",
       "      <td>Merck Sharp &amp; Dohme Corporation</td>\n",
       "      <td>NJ</td>\n",
       "      <td>United States</td>\n",
       "    </tr>\n",
       "    <tr>\n",
       "      <th>1</th>\n",
       "      <td>2</td>\n",
       "      <td>COMSORT, Inc</td>\n",
       "      <td>MD</td>\n",
       "      <td>United States</td>\n",
       "    </tr>\n",
       "    <tr>\n",
       "      <th>2</th>\n",
       "      <td>3</td>\n",
       "      <td>Daiichi Sankyo Company LTD</td>\n",
       "      <td>NaN</td>\n",
       "      <td>Japan</td>\n",
       "    </tr>\n",
       "    <tr>\n",
       "      <th>3</th>\n",
       "      <td>4</td>\n",
       "      <td>C. R. Bard, Inc. &amp; Subsidiaries</td>\n",
       "      <td>NJ</td>\n",
       "      <td>United States</td>\n",
       "    </tr>\n",
       "    <tr>\n",
       "      <th>4</th>\n",
       "      <td>5</td>\n",
       "      <td>Novartis Pharma AG</td>\n",
       "      <td>NaN</td>\n",
       "      <td>Switzerland</td>\n",
       "    </tr>\n",
       "    <tr>\n",
       "      <th>...</th>\n",
       "      <td>...</td>\n",
       "      <td>...</td>\n",
       "      <td>...</td>\n",
       "      <td>...</td>\n",
       "    </tr>\n",
       "    <tr>\n",
       "      <th>2426</th>\n",
       "      <td>2427</td>\n",
       "      <td>Amryt Pharma Holdings Ltd</td>\n",
       "      <td>NaN</td>\n",
       "      <td>Ireland</td>\n",
       "    </tr>\n",
       "    <tr>\n",
       "      <th>2427</th>\n",
       "      <td>2428</td>\n",
       "      <td>Heraeus Medical Components, LLC</td>\n",
       "      <td>MN</td>\n",
       "      <td>United States</td>\n",
       "    </tr>\n",
       "    <tr>\n",
       "      <th>2428</th>\n",
       "      <td>2429</td>\n",
       "      <td>International Life Sciences</td>\n",
       "      <td>GA</td>\n",
       "      <td>United States</td>\n",
       "    </tr>\n",
       "    <tr>\n",
       "      <th>2429</th>\n",
       "      <td>2430</td>\n",
       "      <td>Foundation Consumer Healthcare, LLC</td>\n",
       "      <td>PA</td>\n",
       "      <td>United States</td>\n",
       "    </tr>\n",
       "    <tr>\n",
       "      <th>2430</th>\n",
       "      <td>2431</td>\n",
       "      <td>Ironshore Pharmaceuticals Inc.</td>\n",
       "      <td>NJ</td>\n",
       "      <td>United States</td>\n",
       "    </tr>\n",
       "  </tbody>\n",
       "</table>\n",
       "<p>2431 rows × 4 columns</p>\n",
       "</div>"
      ],
      "text/plain": [
       "      Company_ID                                 Name State        Country\n",
       "0              1      Merck Sharp & Dohme Corporation    NJ  United States\n",
       "1              2                         COMSORT, Inc    MD  United States\n",
       "2              3           Daiichi Sankyo Company LTD   NaN          Japan\n",
       "3              4      C. R. Bard, Inc. & Subsidiaries    NJ  United States\n",
       "4              5                   Novartis Pharma AG   NaN    Switzerland\n",
       "...          ...                                  ...   ...            ...\n",
       "2426        2427            Amryt Pharma Holdings Ltd   NaN        Ireland\n",
       "2427        2428      Heraeus Medical Components, LLC    MN  United States\n",
       "2428        2429          International Life Sciences    GA  United States\n",
       "2429        2430  Foundation Consumer Healthcare, LLC    PA  United States\n",
       "2430        2431       Ironshore Pharmaceuticals Inc.    NJ  United States\n",
       "\n",
       "[2431 rows x 4 columns]"
      ]
     },
     "execution_count": 210,
     "metadata": {},
     "output_type": "execute_result"
    }
   ],
   "source": [
    "df_companies"
   ]
  },
  {
   "cell_type": "code",
   "execution_count": 211,
   "metadata": {},
   "outputs": [],
   "source": [
    "df_companies.rename({\"State\":\"State_Comp\",\"Country\":\"Country_Comp\"}, axis='columns', inplace=True)\n",
    "df_physicians.rename({\"State\":\"State_Phys\",\"Country\":\"Country_Phys\"}, axis='columns', inplace=True)\n",
    "pd.set_option('display.max_columns', None)"
   ]
  },
  {
   "cell_type": "code",
   "execution_count": 212,
   "metadata": {},
   "outputs": [],
   "source": [
    "def ownInterest(id):\n",
    "    if(df_payments.query('Physician_ID==@id and Ownership_Indicator==\"Yes\"').shape[0]>0):\n",
    "        return 1\n",
    "    else:\n",
    "        return 0\n",
    "    \n",
    "df_physicians['Ownership_Interest']=df_physicians['id'].apply(ownInterest)"
   ]
  },
  {
   "cell_type": "code",
   "execution_count": 213,
   "metadata": {},
   "outputs": [],
   "source": [
    "#drop Ownership Indicators=yes records\n",
    "df_scrap=df_payments.query('Ownership_Indicator==\"Yes\"', engine='python')\n",
    "df_payments=pd.concat([df_payments, df_scrap]).drop_duplicates(keep=False)"
   ]
  },
  {
   "cell_type": "code",
   "execution_count": 214,
   "metadata": {},
   "outputs": [],
   "source": [
    "#Feature Engineering\n",
    "def total_pay(phys_id):\n",
    "    return df_payments.query('Physician_ID==@phys_id').Total_Amount_of_Payment_USDollars.sum()\n",
    "\n",
    "df_physicians['Total_Payments']=df_physicians['id'].apply(total_pay)\n",
    "\n",
    "def sum_num_pay(phys_id):\n",
    "    return df_payments.query('Physician_ID==@phys_id').Number_of_Payments.sum()\n",
    "\n",
    "df_physicians['Total_Num_Payments']=df_physicians['id'].apply(sum_num_pay)\n",
    "\n",
    "df_physicians['Value_by_Num']=df_physicians['Total_Payments']/df_physicians['Total_Num_Payments']\n",
    "\n",
    "def num_tran(phys_id):\n",
    "    return df_payments.query('Physician_ID==@phys_id').shape[0]\n",
    "\n",
    "df_physicians['Number_Transaction']=df_physicians['id'].apply(num_tran)\n",
    "\n",
    "df_physicians['Value_by_Tran']=df_physicians['Total_Payments']/df_physicians['Number_Transaction']\n",
    "\n"
   ]
  },
  {
   "cell_type": "code",
   "execution_count": 215,
   "metadata": {},
   "outputs": [],
   "source": [
    "#Feature Engineering 2\n",
    "def max_comp(phys_id):\n",
    "    return df_payments.query('Physician_ID==@phys_id').Company_ID.value_counts().index[0]\n",
    "\n",
    "df_physicians['Max_Comp_ID']=df_physicians['id'].apply(max_comp)\n"
   ]
  },
  {
   "cell_type": "code",
   "execution_count": 106,
   "metadata": {},
   "outputs": [],
   "source": [
    "df_physicians.to_csv(\"./modified_physician_with_features.csv\",index=False)"
   ]
  },
  {
   "cell_type": "code",
   "execution_count": 42,
   "metadata": {},
   "outputs": [],
   "source": [
    "df_physicians.to_csv(\"./modified_physician.csv\",index=False)"
   ]
  },
  {
   "cell_type": "code",
   "execution_count": 216,
   "metadata": {},
   "outputs": [],
   "source": [
    "df=df_physicians"
   ]
  },
  {
   "cell_type": "code",
   "execution_count": null,
   "metadata": {},
   "outputs": [],
   "source": []
  },
  {
   "cell_type": "code",
   "execution_count": 217,
   "metadata": {},
   "outputs": [],
   "source": [
    "df['index_col'] = df.index\n",
    "df=pd.wide_to_long(df, stubnames='License_State_', i=['index_col'],j='License_State_Number').reset_index()\n",
    "df.drop(columns=['index_col'],inplace=True)"
   ]
  },
  {
   "cell_type": "code",
   "execution_count": 218,
   "metadata": {},
   "outputs": [],
   "source": [
    "df.drop(columns=['First_Name', 'Middle_Name', 'Last_Name', 'Name_Suffix','Province','License_State_Number'], inplace=True)"
   ]
  },
  {
   "cell_type": "code",
   "execution_count": 219,
   "metadata": {},
   "outputs": [],
   "source": [
    "df.dropna(subset=['License_State_'],inplace=True)"
   ]
  },
  {
   "cell_type": "code",
   "execution_count": null,
   "metadata": {},
   "outputs": [],
   "source": []
  },
  {
   "cell_type": "code",
   "execution_count": 220,
   "metadata": {},
   "outputs": [],
   "source": [
    "columns_encode=['City', 'State_Phys', 'Zipcode', 'Country_Phys','Primary_Specialty','License_State_']\n",
    "for column in columns_encode:\n",
    "    df[column]=df[column].astype('category')\n",
    "    df[column]=df[column].cat.codes"
   ]
  },
  {
   "cell_type": "code",
   "execution_count": null,
   "metadata": {},
   "outputs": [],
   "source": []
  },
  {
   "cell_type": "code",
   "execution_count": 221,
   "metadata": {},
   "outputs": [
    {
     "data": {
      "text/plain": [
       "(7453, 15)"
      ]
     },
     "execution_count": 221,
     "metadata": {},
     "output_type": "execute_result"
    }
   ],
   "source": [
    "df_train=df[df.set==\"train\"]\n",
    "df_test=df[df.set==\"test\"]\n",
    "\n",
    "df_train.drop(columns=['set'])\n",
    "df_test.drop(columns=['set'])\n",
    "df_train.shape"
   ]
  },
  {
   "cell_type": "code",
   "execution_count": 117,
   "metadata": {},
   "outputs": [
    {
     "data": {
      "image/png": "[encoded data removed]",
      "text/plain": [
       "<Figure size 2160x2160 with 2 Axes>"
      ]
     },
     "metadata": {
      "needs_background": "light"
     },
     "output_type": "display_data"
    }
   ],
   "source": [
    "fig = plt.figure(figsize = (30,30))\n",
    "ax = fig.gca()\n",
    "# df_train.drop(columns=['set'],inplace=True)\n",
    "\n",
    "heatmap = sns.heatmap(df_train.corr(), annot=True)\n",
    "fig = heatmap.get_figure()\n",
    "fig.savefig(\"phys_level_heatmap_after_na_encode.png\")"
   ]
  },
  {
   "cell_type": "code",
   "execution_count": 222,
   "metadata": {},
   "outputs": [
    {
     "name": "stderr",
     "output_type": "stream",
     "text": [
      "c:\\python38\\lib\\site-packages\\pandas\\core\\frame.py:4167: SettingWithCopyWarning: \n",
      "A value is trying to be set on a copy of a slice from a DataFrame\n",
      "\n",
      "See the caveats in the documentation: https://pandas.pydata.org/pandas-docs/stable/user_guide/indexing.html#returning-a-view-versus-a-copy\n",
      "  return super().drop(\n"
     ]
    }
   ],
   "source": [
    "\n",
    "###drop set column\n",
    "df_test.drop(columns=['set'],inplace=True)\n",
    "df_train.drop(columns=['set'],inplace=True)\n",
    "\n",
    "##send predicted attribute to end\n",
    "first_col = df_train.pop(\"Ownership_Interest\")\n",
    "df_train.insert((df_train.shape[1]),\"Ownership_Interest\",first_col)\n",
    "\n",
    "first_col = df_test.pop(\"Ownership_Interest\")\n",
    "df_test.insert((df_test.shape[1]),\"Ownership_Interest\",first_col)\n",
    "\n",
    "##send Physician ID to end\n",
    "first_col = df_train.pop(\"id\")\n",
    "df_train.insert((df_train.shape[1]),\"id\",first_col)\n",
    "\n",
    "first_col = df_test.pop(\"id\")\n",
    "df_test.insert((df_test.shape[1]),\"id\",first_col)\n"
   ]
  },
  {
   "cell_type": "code",
   "execution_count": 223,
   "metadata": {},
   "outputs": [],
   "source": [
    "np.random.seed(2021)\n",
    "##downsampling\n",
    "df_train_maj=df_train[df_train.Ownership_Interest==0]\n",
    "df_train_min=df_train[df_train.Ownership_Interest==1]\n",
    "df_train_maj_down=resample(df_train_maj, replace=False, n_samples=df_train_min.shape[0], random_state=2021)\n",
    "df_train_final = pd.concat([df_train_maj_down, df_train_min])\n",
    "\n",
    "###test train split of own train set\n",
    "df_train_final['is_train']=np.random.uniform(0,1,len(df_train_final)) <=.80\n",
    "train, test = df_train_final[df_train_final['is_train']==True], df_train_final[df_train_final['is_train']==False]\n",
    "train = shuffle(train,random_state=2021)\n",
    "test = shuffle(test,random_state=2021)"
   ]
  },
  {
   "cell_type": "code",
   "execution_count": 204,
   "metadata": {},
   "outputs": [
    {
     "name": "stdout",
     "output_type": "stream",
     "text": [
      "Index(['Value_by_Num', 'Number_Transaction', 'Value_by_Tran', 'Country_Phys',\n",
      "       'Total_Num_Payments', 'Max_Comp_ID', 'State_Phys', 'Primary_Specialty',\n",
      "       'City', 'Zipcode', 'Total_Payments', 'License_State_',\n",
      "       'Ownership_Interest', 'id'],\n",
      "      dtype='object')\n"
     ]
    },
    {
     "data": {
      "text/plain": [
       "(7453, 14)"
      ]
     },
     "execution_count": 204,
     "metadata": {},
     "output_type": "execute_result"
    }
   ],
   "source": [
    "print(df_train.columns)\n",
    "df_train.shape"
   ]
  },
  {
   "cell_type": "code",
   "execution_count": 205,
   "metadata": {},
   "outputs": [
    {
     "name": "stdout",
     "output_type": "stream",
     "text": [
      "BEST: 0.8333333333333334 N_EST: 82\n",
      "\n",
      "BEST: 0.8431372549019608 N_EST: 52\n",
      "\n"
     ]
    },
    {
     "ename": "KeyboardInterrupt",
     "evalue": "",
     "output_type": "error",
     "traceback": [
      "\u001b[1;31m---------------------------------------------------------------------------\u001b[0m",
      "\u001b[1;31mFileNotFoundError\u001b[0m                         Traceback (most recent call last)",
      "\u001b[1;32mc:\\python38\\lib\\genericpath.py\u001b[0m in \u001b[0;36mexists\u001b[1;34m(path)\u001b[0m\n\u001b[0;32m     18\u001b[0m     \u001b[1;32mtry\u001b[0m\u001b[1;33m:\u001b[0m\u001b[1;33m\u001b[0m\u001b[1;33m\u001b[0m\u001b[0m\n\u001b[1;32m---> 19\u001b[1;33m         \u001b[0mos\u001b[0m\u001b[1;33m.\u001b[0m\u001b[0mstat\u001b[0m\u001b[1;33m(\u001b[0m\u001b[0mpath\u001b[0m\u001b[1;33m)\u001b[0m\u001b[1;33m\u001b[0m\u001b[1;33m\u001b[0m\u001b[0m\n\u001b[0m\u001b[0;32m     20\u001b[0m     \u001b[1;32mexcept\u001b[0m \u001b[1;33m(\u001b[0m\u001b[0mOSError\u001b[0m\u001b[1;33m,\u001b[0m \u001b[0mValueError\u001b[0m\u001b[1;33m)\u001b[0m\u001b[1;33m:\u001b[0m\u001b[1;33m\u001b[0m\u001b[1;33m\u001b[0m\u001b[0m\n",
      "\u001b[1;31mFileNotFoundError\u001b[0m: [WinError 3] The system cannot find the path specified: '/sys/fs/cgroup/cpu/cpu.cfs_quota_us'",
      "\nDuring handling of the above exception, another exception occurred:\n",
      "\u001b[1;31mKeyboardInterrupt\u001b[0m                         Traceback (most recent call last)",
      "\u001b[1;32m<ipython-input-205-071c6807e102>\u001b[0m in \u001b[0;36m<module>\u001b[1;34m\u001b[0m\n\u001b[0;32m     15\u001b[0m     \u001b[1;31m###model training\u001b[0m\u001b[1;33m\u001b[0m\u001b[1;33m\u001b[0m\u001b[1;33m\u001b[0m\u001b[0m\n\u001b[0;32m     16\u001b[0m     \u001b[0mclf\u001b[0m \u001b[1;33m=\u001b[0m \u001b[0mRandomForestClassifier\u001b[0m\u001b[1;33m(\u001b[0m\u001b[0mn_jobs\u001b[0m\u001b[1;33m=\u001b[0m\u001b[1;33m-\u001b[0m\u001b[1;36m1\u001b[0m\u001b[1;33m,\u001b[0m \u001b[0moob_score\u001b[0m \u001b[1;33m=\u001b[0m \u001b[1;32mTrue\u001b[0m\u001b[1;33m,\u001b[0m \u001b[0mn_estimators\u001b[0m \u001b[1;33m=\u001b[0m \u001b[0mn_est\u001b[0m\u001b[1;33m,\u001b[0m \u001b[0mrandom_state\u001b[0m\u001b[1;33m=\u001b[0m\u001b[1;36m2021\u001b[0m\u001b[1;33m)\u001b[0m\u001b[1;33m\u001b[0m\u001b[1;33m\u001b[0m\u001b[0m\n\u001b[1;32m---> 17\u001b[1;33m     \u001b[0mclf\u001b[0m\u001b[1;33m.\u001b[0m\u001b[0mfit\u001b[0m\u001b[1;33m(\u001b[0m\u001b[0mfeatures\u001b[0m\u001b[1;33m,\u001b[0m \u001b[0my\u001b[0m\u001b[1;33m)\u001b[0m\u001b[1;33m\u001b[0m\u001b[1;33m\u001b[0m\u001b[0m\n\u001b[0m\u001b[0;32m     18\u001b[0m     \u001b[0mtest_acc\u001b[0m\u001b[1;33m=\u001b[0m\u001b[0mclf\u001b[0m\u001b[1;33m.\u001b[0m\u001b[0mscore\u001b[0m\u001b[1;33m(\u001b[0m\u001b[0mx_test\u001b[0m\u001b[1;33m,\u001b[0m\u001b[0my_test\u001b[0m\u001b[1;33m)\u001b[0m\u001b[1;33m\u001b[0m\u001b[1;33m\u001b[0m\u001b[0m\n\u001b[0;32m     19\u001b[0m     \u001b[1;32mif\u001b[0m \u001b[0mtest_acc\u001b[0m\u001b[1;33m>\u001b[0m\u001b[0mbest\u001b[0m\u001b[1;33m:\u001b[0m\u001b[1;33m\u001b[0m\u001b[1;33m\u001b[0m\u001b[0m\n",
      "\u001b[1;32mc:\\python38\\lib\\site-packages\\sklearn\\ensemble\\_forest.py\u001b[0m in \u001b[0;36mfit\u001b[1;34m(self, X, y, sample_weight)\u001b[0m\n\u001b[0;32m    384\u001b[0m             \u001b[1;31m# parallel_backend contexts set at a higher level,\u001b[0m\u001b[1;33m\u001b[0m\u001b[1;33m\u001b[0m\u001b[1;33m\u001b[0m\u001b[0m\n\u001b[0;32m    385\u001b[0m             \u001b[1;31m# since correctness does not rely on using threads.\u001b[0m\u001b[1;33m\u001b[0m\u001b[1;33m\u001b[0m\u001b[1;33m\u001b[0m\u001b[0m\n\u001b[1;32m--> 386\u001b[1;33m             trees = Parallel(n_jobs=self.n_jobs, verbose=self.verbose,\n\u001b[0m\u001b[0;32m    387\u001b[0m                              \u001b[1;33m**\u001b[0m\u001b[0m_joblib_parallel_args\u001b[0m\u001b[1;33m(\u001b[0m\u001b[0mprefer\u001b[0m\u001b[1;33m=\u001b[0m\u001b[1;34m'threads'\u001b[0m\u001b[1;33m)\u001b[0m\u001b[1;33m)\u001b[0m\u001b[1;33m(\u001b[0m\u001b[1;33m\u001b[0m\u001b[1;33m\u001b[0m\u001b[0m\n\u001b[0;32m    388\u001b[0m                 delayed(_parallel_build_trees)(\n",
      "\u001b[1;32mc:\\python38\\lib\\site-packages\\joblib\\parallel.py\u001b[0m in \u001b[0;36m__call__\u001b[1;34m(self, iterable)\u001b[0m\n\u001b[0;32m    971\u001b[0m \u001b[1;33m\u001b[0m\u001b[0m\n\u001b[0;32m    972\u001b[0m         \u001b[1;32mif\u001b[0m \u001b[1;32mnot\u001b[0m \u001b[0mself\u001b[0m\u001b[1;33m.\u001b[0m\u001b[0m_managed_backend\u001b[0m\u001b[1;33m:\u001b[0m\u001b[1;33m\u001b[0m\u001b[1;33m\u001b[0m\u001b[0m\n\u001b[1;32m--> 973\u001b[1;33m             \u001b[0mn_jobs\u001b[0m \u001b[1;33m=\u001b[0m \u001b[0mself\u001b[0m\u001b[1;33m.\u001b[0m\u001b[0m_initialize_backend\u001b[0m\u001b[1;33m(\u001b[0m\u001b[1;33m)\u001b[0m\u001b[1;33m\u001b[0m\u001b[1;33m\u001b[0m\u001b[0m\n\u001b[0m\u001b[0;32m    974\u001b[0m         \u001b[1;32melse\u001b[0m\u001b[1;33m:\u001b[0m\u001b[1;33m\u001b[0m\u001b[1;33m\u001b[0m\u001b[0m\n\u001b[0;32m    975\u001b[0m             \u001b[0mn_jobs\u001b[0m \u001b[1;33m=\u001b[0m \u001b[0mself\u001b[0m\u001b[1;33m.\u001b[0m\u001b[0m_effective_n_jobs\u001b[0m\u001b[1;33m(\u001b[0m\u001b[1;33m)\u001b[0m\u001b[1;33m\u001b[0m\u001b[1;33m\u001b[0m\u001b[0m\n",
      "\u001b[1;32mc:\\python38\\lib\\site-packages\\joblib\\parallel.py\u001b[0m in \u001b[0;36m_initialize_backend\u001b[1;34m(self)\u001b[0m\n\u001b[0;32m    738\u001b[0m         \u001b[1;34m\"\"\"Build a process or thread pool and return the number of workers\"\"\"\u001b[0m\u001b[1;33m\u001b[0m\u001b[1;33m\u001b[0m\u001b[0m\n\u001b[0;32m    739\u001b[0m         \u001b[1;32mtry\u001b[0m\u001b[1;33m:\u001b[0m\u001b[1;33m\u001b[0m\u001b[1;33m\u001b[0m\u001b[0m\n\u001b[1;32m--> 740\u001b[1;33m             n_jobs = self._backend.configure(n_jobs=self.n_jobs, parallel=self,\n\u001b[0m\u001b[0;32m    741\u001b[0m                                              **self._backend_args)\n\u001b[0;32m    742\u001b[0m             \u001b[1;32mif\u001b[0m \u001b[0mself\u001b[0m\u001b[1;33m.\u001b[0m\u001b[0mtimeout\u001b[0m \u001b[1;32mis\u001b[0m \u001b[1;32mnot\u001b[0m \u001b[1;32mNone\u001b[0m \u001b[1;32mand\u001b[0m \u001b[1;32mnot\u001b[0m \u001b[0mself\u001b[0m\u001b[1;33m.\u001b[0m\u001b[0m_backend\u001b[0m\u001b[1;33m.\u001b[0m\u001b[0msupports_timeout\u001b[0m\u001b[1;33m:\u001b[0m\u001b[1;33m\u001b[0m\u001b[1;33m\u001b[0m\u001b[0m\n",
      "\u001b[1;32mc:\\python38\\lib\\site-packages\\joblib\\_parallel_backends.py\u001b[0m in \u001b[0;36mconfigure\u001b[1;34m(self, n_jobs, parallel, **backend_args)\u001b[0m\n\u001b[0;32m    389\u001b[0m     \u001b[1;32mdef\u001b[0m \u001b[0mconfigure\u001b[0m\u001b[1;33m(\u001b[0m\u001b[0mself\u001b[0m\u001b[1;33m,\u001b[0m \u001b[0mn_jobs\u001b[0m\u001b[1;33m=\u001b[0m\u001b[1;36m1\u001b[0m\u001b[1;33m,\u001b[0m \u001b[0mparallel\u001b[0m\u001b[1;33m=\u001b[0m\u001b[1;32mNone\u001b[0m\u001b[1;33m,\u001b[0m \u001b[1;33m**\u001b[0m\u001b[0mbackend_args\u001b[0m\u001b[1;33m)\u001b[0m\u001b[1;33m:\u001b[0m\u001b[1;33m\u001b[0m\u001b[1;33m\u001b[0m\u001b[0m\n\u001b[0;32m    390\u001b[0m         \u001b[1;34m\"\"\"Build a process or thread pool and return the number of workers\"\"\"\u001b[0m\u001b[1;33m\u001b[0m\u001b[1;33m\u001b[0m\u001b[0m\n\u001b[1;32m--> 391\u001b[1;33m         \u001b[0mn_jobs\u001b[0m \u001b[1;33m=\u001b[0m \u001b[0mself\u001b[0m\u001b[1;33m.\u001b[0m\u001b[0meffective_n_jobs\u001b[0m\u001b[1;33m(\u001b[0m\u001b[0mn_jobs\u001b[0m\u001b[1;33m)\u001b[0m\u001b[1;33m\u001b[0m\u001b[1;33m\u001b[0m\u001b[0m\n\u001b[0m\u001b[0;32m    392\u001b[0m         \u001b[1;32mif\u001b[0m \u001b[0mn_jobs\u001b[0m \u001b[1;33m==\u001b[0m \u001b[1;36m1\u001b[0m\u001b[1;33m:\u001b[0m\u001b[1;33m\u001b[0m\u001b[1;33m\u001b[0m\u001b[0m\n\u001b[0;32m    393\u001b[0m             \u001b[1;31m# Avoid unnecessary overhead and use sequential backend instead.\u001b[0m\u001b[1;33m\u001b[0m\u001b[1;33m\u001b[0m\u001b[1;33m\u001b[0m\u001b[0m\n",
      "\u001b[1;32mc:\\python38\\lib\\site-packages\\joblib\\_parallel_backends.py\u001b[0m in \u001b[0;36meffective_n_jobs\u001b[1;34m(self, n_jobs)\u001b[0m\n\u001b[0;32m    234\u001b[0m             \u001b[1;32mreturn\u001b[0m \u001b[1;36m1\u001b[0m\u001b[1;33m\u001b[0m\u001b[1;33m\u001b[0m\u001b[0m\n\u001b[0;32m    235\u001b[0m         \u001b[1;32melif\u001b[0m \u001b[0mn_jobs\u001b[0m \u001b[1;33m<\u001b[0m \u001b[1;36m0\u001b[0m\u001b[1;33m:\u001b[0m\u001b[1;33m\u001b[0m\u001b[1;33m\u001b[0m\u001b[0m\n\u001b[1;32m--> 236\u001b[1;33m             \u001b[0mn_jobs\u001b[0m \u001b[1;33m=\u001b[0m \u001b[0mmax\u001b[0m\u001b[1;33m(\u001b[0m\u001b[0mcpu_count\u001b[0m\u001b[1;33m(\u001b[0m\u001b[1;33m)\u001b[0m \u001b[1;33m+\u001b[0m \u001b[1;36m1\u001b[0m \u001b[1;33m+\u001b[0m \u001b[0mn_jobs\u001b[0m\u001b[1;33m,\u001b[0m \u001b[1;36m1\u001b[0m\u001b[1;33m)\u001b[0m\u001b[1;33m\u001b[0m\u001b[1;33m\u001b[0m\u001b[0m\n\u001b[0m\u001b[0;32m    237\u001b[0m         \u001b[1;32mreturn\u001b[0m \u001b[0mn_jobs\u001b[0m\u001b[1;33m\u001b[0m\u001b[1;33m\u001b[0m\u001b[0m\n\u001b[0;32m    238\u001b[0m \u001b[1;33m\u001b[0m\u001b[0m\n",
      "\u001b[1;32mc:\\python38\\lib\\site-packages\\joblib\\externals\\loky\\backend\\context.py\u001b[0m in \u001b[0;36mcpu_count\u001b[1;34m(only_physical_cores)\u001b[0m\n\u001b[0;32m    136\u001b[0m         \u001b[0mcpu_count_mp\u001b[0m \u001b[1;33m=\u001b[0m \u001b[1;36m1\u001b[0m\u001b[1;33m\u001b[0m\u001b[1;33m\u001b[0m\u001b[0m\n\u001b[0;32m    137\u001b[0m \u001b[1;33m\u001b[0m\u001b[0m\n\u001b[1;32m--> 138\u001b[1;33m     \u001b[0mcpu_count_user\u001b[0m \u001b[1;33m=\u001b[0m \u001b[0m_cpu_count_user\u001b[0m\u001b[1;33m(\u001b[0m\u001b[0mcpu_count_mp\u001b[0m\u001b[1;33m)\u001b[0m\u001b[1;33m\u001b[0m\u001b[1;33m\u001b[0m\u001b[0m\n\u001b[0m\u001b[0;32m    139\u001b[0m     \u001b[0maggregate_cpu_count\u001b[0m \u001b[1;33m=\u001b[0m \u001b[0mmin\u001b[0m\u001b[1;33m(\u001b[0m\u001b[0mcpu_count_mp\u001b[0m\u001b[1;33m,\u001b[0m \u001b[0mcpu_count_user\u001b[0m\u001b[1;33m)\u001b[0m\u001b[1;33m\u001b[0m\u001b[1;33m\u001b[0m\u001b[0m\n\u001b[0;32m    140\u001b[0m \u001b[1;33m\u001b[0m\u001b[0m\n",
      "\u001b[1;32mc:\\python38\\lib\\site-packages\\joblib\\externals\\loky\\backend\\context.py\u001b[0m in \u001b[0;36m_cpu_count_user\u001b[1;34m(cpu_count_mp)\u001b[0m\n\u001b[0;32m    184\u001b[0m     \u001b[0mcfs_quota_fname\u001b[0m \u001b[1;33m=\u001b[0m \u001b[1;34m\"/sys/fs/cgroup/cpu/cpu.cfs_quota_us\"\u001b[0m\u001b[1;33m\u001b[0m\u001b[1;33m\u001b[0m\u001b[0m\n\u001b[0;32m    185\u001b[0m     \u001b[0mcfs_period_fname\u001b[0m \u001b[1;33m=\u001b[0m \u001b[1;34m\"/sys/fs/cgroup/cpu/cpu.cfs_period_us\"\u001b[0m\u001b[1;33m\u001b[0m\u001b[1;33m\u001b[0m\u001b[0m\n\u001b[1;32m--> 186\u001b[1;33m     \u001b[1;32mif\u001b[0m \u001b[0mos\u001b[0m\u001b[1;33m.\u001b[0m\u001b[0mpath\u001b[0m\u001b[1;33m.\u001b[0m\u001b[0mexists\u001b[0m\u001b[1;33m(\u001b[0m\u001b[0mcfs_quota_fname\u001b[0m\u001b[1;33m)\u001b[0m \u001b[1;32mand\u001b[0m \u001b[0mos\u001b[0m\u001b[1;33m.\u001b[0m\u001b[0mpath\u001b[0m\u001b[1;33m.\u001b[0m\u001b[0mexists\u001b[0m\u001b[1;33m(\u001b[0m\u001b[0mcfs_period_fname\u001b[0m\u001b[1;33m)\u001b[0m\u001b[1;33m:\u001b[0m\u001b[1;33m\u001b[0m\u001b[1;33m\u001b[0m\u001b[0m\n\u001b[0m\u001b[0;32m    187\u001b[0m         \u001b[1;32mwith\u001b[0m \u001b[0mopen\u001b[0m\u001b[1;33m(\u001b[0m\u001b[0mcfs_quota_fname\u001b[0m\u001b[1;33m,\u001b[0m \u001b[1;34m'r'\u001b[0m\u001b[1;33m)\u001b[0m \u001b[1;32mas\u001b[0m \u001b[0mfh\u001b[0m\u001b[1;33m:\u001b[0m\u001b[1;33m\u001b[0m\u001b[1;33m\u001b[0m\u001b[0m\n\u001b[0;32m    188\u001b[0m             \u001b[0mcfs_quota_us\u001b[0m \u001b[1;33m=\u001b[0m \u001b[0mint\u001b[0m\u001b[1;33m(\u001b[0m\u001b[0mfh\u001b[0m\u001b[1;33m.\u001b[0m\u001b[0mread\u001b[0m\u001b[1;33m(\u001b[0m\u001b[1;33m)\u001b[0m\u001b[1;33m)\u001b[0m\u001b[1;33m\u001b[0m\u001b[1;33m\u001b[0m\u001b[0m\n",
      "\u001b[1;32mc:\\python38\\lib\\genericpath.py\u001b[0m in \u001b[0;36mexists\u001b[1;34m(path)\u001b[0m\n\u001b[0;32m     17\u001b[0m     \u001b[1;34m\"\"\"Test whether a path exists.  Returns False for broken symbolic links\"\"\"\u001b[0m\u001b[1;33m\u001b[0m\u001b[1;33m\u001b[0m\u001b[0m\n\u001b[0;32m     18\u001b[0m     \u001b[1;32mtry\u001b[0m\u001b[1;33m:\u001b[0m\u001b[1;33m\u001b[0m\u001b[1;33m\u001b[0m\u001b[0m\n\u001b[1;32m---> 19\u001b[1;33m         \u001b[0mos\u001b[0m\u001b[1;33m.\u001b[0m\u001b[0mstat\u001b[0m\u001b[1;33m(\u001b[0m\u001b[0mpath\u001b[0m\u001b[1;33m)\u001b[0m\u001b[1;33m\u001b[0m\u001b[1;33m\u001b[0m\u001b[0m\n\u001b[0m\u001b[0;32m     20\u001b[0m     \u001b[1;32mexcept\u001b[0m \u001b[1;33m(\u001b[0m\u001b[0mOSError\u001b[0m\u001b[1;33m,\u001b[0m \u001b[0mValueError\u001b[0m\u001b[1;33m)\u001b[0m\u001b[1;33m:\u001b[0m\u001b[1;33m\u001b[0m\u001b[1;33m\u001b[0m\u001b[0m\n\u001b[0;32m     21\u001b[0m         \u001b[1;32mreturn\u001b[0m \u001b[1;32mFalse\u001b[0m\u001b[1;33m\u001b[0m\u001b[1;33m\u001b[0m\u001b[0m\n",
      "\u001b[1;31mKeyboardInterrupt\u001b[0m: "
     ]
    }
   ],
   "source": [
    "best=0\n",
    "i=0\n",
    "n=150\n",
    "# f = open(\"AfterSqueezingNEstSearch.txt\", \"a\")\n",
    "# f.write(\"File Starts here:\\n\")\n",
    "\n",
    "while n>0:\n",
    "    n_est=r.randint(50,200)\n",
    "    ###feature and label split\n",
    "    features=train[train.columns[0:(train.shape[1]-3)]]\n",
    "    y=train['Ownership_Interest']\n",
    "    x_test = test[test.columns[0:(test.shape[1]-3)]]\n",
    "    y_test = test['Ownership_Interest']\n",
    "\n",
    "    ###model training\n",
    "    clf = RandomForestClassifier(n_jobs=-1, oob_score = True, n_estimators = n_est, random_state=2021)\n",
    "    clf.fit(features, y)\n",
    "    test_acc=clf.score(x_test,y_test)\n",
    "    if test_acc>best:\n",
    "        best=test_acc\n",
    "#         f.write('BEST:'+' '+str(test_acc)+' N_EST: '+str(n_est)+'\\n')\n",
    "        print('BEST:'+' '+str(test_acc)+' N_EST: '+str(n_est)+'\\n')"
   ]
  },
  {
   "cell_type": "code",
   "execution_count": 224,
   "metadata": {},
   "outputs": [
    {
     "name": "stdout",
     "output_type": "stream",
     "text": [
      "Internal Accuracy Score 0.8236658932714617\n",
      "RF accuracy: TRAINING 1.0\n",
      "RF accuracy: TESTING 0.8480392156862745\n",
      "Predicted   0   1\n",
      "Actual           \n",
      "0          86  17\n",
      "1          14  87\n"
     ]
    },
    {
     "data": {
      "text/plain": [
       "{'Value_by_Num': 0.07941002606156806,\n",
       " 'Number_Transaction': 0.08979103984609765,\n",
       " 'Value_by_Tran': 0.0779391856758148,\n",
       " 'Country_Phys': 0.0,\n",
       " 'Total_Num_Payments': 0.09261336667979832,\n",
       " 'Max_Comp_ID': 0.08780079884222874,\n",
       " 'State_Phys': 0.05099409520602179,\n",
       " 'Primary_Specialty': 0.24251443076227908,\n",
       " 'City': 0.07197267527382872,\n",
       " 'Zipcode': 0.07180776802814558,\n",
       " 'Total_Payments': 0.09261499714069858,\n",
       " 'License_State_': 0.04254161648351858}"
      ]
     },
     "execution_count": 224,
     "metadata": {},
     "output_type": "execute_result"
    }
   ],
   "source": [
    "###feature and label split\n",
    "features=train[train.columns[0:(train.shape[1]-3)]]\n",
    "y=train['Ownership_Interest']\n",
    "x_test = test[test.columns[0:(test.shape[1]-3)]]\n",
    "y_test = test['Ownership_Interest']\n",
    "\n",
    "###model training\n",
    "clf = RandomForestClassifier(n_jobs=-1, oob_score = True, n_estimators = 130, random_state=2021)\n",
    "\n",
    "clf.fit(features, y)\n",
    "\n",
    "# Accuracy Scores\n",
    "print ('Internal Accuracy Score', clf.oob_score_)\n",
    "print ('RF accuracy: TRAINING', clf.score(features,y))\n",
    "print ('RF accuracy: TESTING', clf.score(x_test,y_test))\n",
    "\n",
    "preds = clf.predict(x_test)\n",
    "print( pd.crosstab(y_test, preds, rownames=['Actual'], colnames=['Predicted']) )\n",
    "\n",
    "# Feature Importance\n",
    "feature_imp = {} # a dict to hold feature_name: feature_importance\n",
    "for feature, importance in zip(features.columns.values, clf.feature_importances_):\n",
    "    feature_imp[feature] = importance\n",
    "\n",
    "feature_imp"
   ]
  },
  {
   "cell_type": "code",
   "execution_count": 126,
   "metadata": {},
   "outputs": [
    {
     "name": "stderr",
     "output_type": "stream",
     "text": [
      "c:\\python38\\lib\\site-packages\\pandas\\core\\frame.py:4167: SettingWithCopyWarning: \n",
      "A value is trying to be set on a copy of a slice from a DataFrame\n",
      "\n",
      "See the caveats in the documentation: https://pandas.pydata.org/pandas-docs/stable/user_guide/indexing.html#returning-a-view-versus-a-copy\n",
      "  return super().drop(\n"
     ]
    },
    {
     "data": {
      "text/html": [
       "<div>\n",
       "<style scoped>\n",
       "    .dataframe tbody tr th:only-of-type {\n",
       "        vertical-align: middle;\n",
       "    }\n",
       "\n",
       "    .dataframe tbody tr th {\n",
       "        vertical-align: top;\n",
       "    }\n",
       "\n",
       "    .dataframe thead th {\n",
       "        text-align: right;\n",
       "    }\n",
       "</style>\n",
       "<table border=\"1\" class=\"dataframe\">\n",
       "  <thead>\n",
       "    <tr style=\"text-align: right;\">\n",
       "      <th></th>\n",
       "      <th>Value_by_Num</th>\n",
       "      <th>Number_Transaction</th>\n",
       "      <th>Value_by_Tran</th>\n",
       "      <th>Country_Phys</th>\n",
       "      <th>Total_Num_Payments</th>\n",
       "      <th>Max_Comp_ID</th>\n",
       "      <th>State_Phys</th>\n",
       "      <th>Primary_Specialty</th>\n",
       "      <th>City</th>\n",
       "      <th>Zipcode</th>\n",
       "      <th>Total_Payments</th>\n",
       "      <th>License_State_</th>\n",
       "    </tr>\n",
       "  </thead>\n",
       "  <tbody>\n",
       "    <tr>\n",
       "      <th>13</th>\n",
       "      <td>10.636335</td>\n",
       "      <td>539</td>\n",
       "      <td>10.715269</td>\n",
       "      <td>0</td>\n",
       "      <td>543</td>\n",
       "      <td>197</td>\n",
       "      <td>9</td>\n",
       "      <td>82</td>\n",
       "      <td>1547</td>\n",
       "      <td>2295</td>\n",
       "      <td>5775.53</td>\n",
       "      <td>9</td>\n",
       "    </tr>\n",
       "    <tr>\n",
       "      <th>17</th>\n",
       "      <td>157.745274</td>\n",
       "      <td>584</td>\n",
       "      <td>157.745274</td>\n",
       "      <td>0</td>\n",
       "      <td>584</td>\n",
       "      <td>123</td>\n",
       "      <td>34</td>\n",
       "      <td>34</td>\n",
       "      <td>1105</td>\n",
       "      <td>617</td>\n",
       "      <td>92123.24</td>\n",
       "      <td>36</td>\n",
       "    </tr>\n",
       "    <tr>\n",
       "      <th>41</th>\n",
       "      <td>17.552722</td>\n",
       "      <td>180</td>\n",
       "      <td>17.552722</td>\n",
       "      <td>0</td>\n",
       "      <td>180</td>\n",
       "      <td>190</td>\n",
       "      <td>34</td>\n",
       "      <td>54</td>\n",
       "      <td>184</td>\n",
       "      <td>670</td>\n",
       "      <td>3159.49</td>\n",
       "      <td>36</td>\n",
       "    </tr>\n",
       "    <tr>\n",
       "      <th>45</th>\n",
       "      <td>25.224062</td>\n",
       "      <td>64</td>\n",
       "      <td>25.224062</td>\n",
       "      <td>0</td>\n",
       "      <td>64</td>\n",
       "      <td>897</td>\n",
       "      <td>22</td>\n",
       "      <td>-1</td>\n",
       "      <td>398</td>\n",
       "      <td>3135</td>\n",
       "      <td>1614.34</td>\n",
       "      <td>24</td>\n",
       "    </tr>\n",
       "    <tr>\n",
       "      <th>46</th>\n",
       "      <td>21.939189</td>\n",
       "      <td>296</td>\n",
       "      <td>21.939189</td>\n",
       "      <td>0</td>\n",
       "      <td>296</td>\n",
       "      <td>123</td>\n",
       "      <td>20</td>\n",
       "      <td>34</td>\n",
       "      <td>127</td>\n",
       "      <td>1181</td>\n",
       "      <td>6494.00</td>\n",
       "      <td>7</td>\n",
       "    </tr>\n",
       "    <tr>\n",
       "      <th>...</th>\n",
       "      <td>...</td>\n",
       "      <td>...</td>\n",
       "      <td>...</td>\n",
       "      <td>...</td>\n",
       "      <td>...</td>\n",
       "      <td>...</td>\n",
       "      <td>...</td>\n",
       "      <td>...</td>\n",
       "      <td>...</td>\n",
       "      <td>...</td>\n",
       "      <td>...</td>\n",
       "      <td>...</td>\n",
       "    </tr>\n",
       "    <tr>\n",
       "      <th>27016</th>\n",
       "      <td>68.702662</td>\n",
       "      <td>139</td>\n",
       "      <td>68.702662</td>\n",
       "      <td>0</td>\n",
       "      <td>139</td>\n",
       "      <td>675</td>\n",
       "      <td>32</td>\n",
       "      <td>78</td>\n",
       "      <td>19</td>\n",
       "      <td>4742</td>\n",
       "      <td>9549.67</td>\n",
       "      <td>51</td>\n",
       "    </tr>\n",
       "    <tr>\n",
       "      <th>27705</th>\n",
       "      <td>31.814781</td>\n",
       "      <td>366</td>\n",
       "      <td>31.814781</td>\n",
       "      <td>0</td>\n",
       "      <td>366</td>\n",
       "      <td>521</td>\n",
       "      <td>44</td>\n",
       "      <td>41</td>\n",
       "      <td>106</td>\n",
       "      <td>4298</td>\n",
       "      <td>11644.21</td>\n",
       "      <td>11</td>\n",
       "    </tr>\n",
       "    <tr>\n",
       "      <th>27810</th>\n",
       "      <td>79.403191</td>\n",
       "      <td>47</td>\n",
       "      <td>79.403191</td>\n",
       "      <td>0</td>\n",
       "      <td>47</td>\n",
       "      <td>675</td>\n",
       "      <td>7</td>\n",
       "      <td>80</td>\n",
       "      <td>1731</td>\n",
       "      <td>1141</td>\n",
       "      <td>3731.95</td>\n",
       "      <td>48</td>\n",
       "    </tr>\n",
       "    <tr>\n",
       "      <th>28447</th>\n",
       "      <td>768.903200</td>\n",
       "      <td>75</td>\n",
       "      <td>768.903200</td>\n",
       "      <td>0</td>\n",
       "      <td>75</td>\n",
       "      <td>911</td>\n",
       "      <td>13</td>\n",
       "      <td>70</td>\n",
       "      <td>425</td>\n",
       "      <td>4558</td>\n",
       "      <td>57667.74</td>\n",
       "      <td>15</td>\n",
       "    </tr>\n",
       "    <tr>\n",
       "      <th>29818</th>\n",
       "      <td>55.101656</td>\n",
       "      <td>157</td>\n",
       "      <td>55.101656</td>\n",
       "      <td>0</td>\n",
       "      <td>157</td>\n",
       "      <td>521</td>\n",
       "      <td>9</td>\n",
       "      <td>41</td>\n",
       "      <td>1111</td>\n",
       "      <td>1897</td>\n",
       "      <td>8650.96</td>\n",
       "      <td>19</td>\n",
       "    </tr>\n",
       "  </tbody>\n",
       "</table>\n",
       "<p>1476 rows × 12 columns</p>\n",
       "</div>"
      ],
      "text/plain": [
       "       Value_by_Num  Number_Transaction  Value_by_Tran  Country_Phys  \\\n",
       "13        10.636335                 539      10.715269             0   \n",
       "17       157.745274                 584     157.745274             0   \n",
       "41        17.552722                 180      17.552722             0   \n",
       "45        25.224062                  64      25.224062             0   \n",
       "46        21.939189                 296      21.939189             0   \n",
       "...             ...                 ...            ...           ...   \n",
       "27016     68.702662                 139      68.702662             0   \n",
       "27705     31.814781                 366      31.814781             0   \n",
       "27810     79.403191                  47      79.403191             0   \n",
       "28447    768.903200                  75     768.903200             0   \n",
       "29818     55.101656                 157      55.101656             0   \n",
       "\n",
       "       Total_Num_Payments  Max_Comp_ID  State_Phys  Primary_Specialty  City  \\\n",
       "13                    543          197           9                 82  1547   \n",
       "17                    584          123          34                 34  1105   \n",
       "41                    180          190          34                 54   184   \n",
       "45                     64          897          22                 -1   398   \n",
       "46                    296          123          20                 34   127   \n",
       "...                   ...          ...         ...                ...   ...   \n",
       "27016                 139          675          32                 78    19   \n",
       "27705                 366          521          44                 41   106   \n",
       "27810                  47          675           7                 80  1731   \n",
       "28447                  75          911          13                 70   425   \n",
       "29818                 157          521           9                 41  1111   \n",
       "\n",
       "       Zipcode  Total_Payments  License_State_  \n",
       "13        2295         5775.53               9  \n",
       "17         617        92123.24              36  \n",
       "41         670         3159.49              36  \n",
       "45        3135         1614.34              24  \n",
       "46        1181         6494.00               7  \n",
       "...        ...             ...             ...  \n",
       "27016     4742         9549.67              51  \n",
       "27705     4298        11644.21              11  \n",
       "27810     1141         3731.95              48  \n",
       "28447     4558        57667.74              15  \n",
       "29818     1897         8650.96              19  \n",
       "\n",
       "[1476 rows x 12 columns]"
      ]
     },
     "execution_count": 126,
     "metadata": {},
     "output_type": "execute_result"
    }
   ],
   "source": [
    "phys_id_list=df_test['id']\n",
    "predict_set=df_test\n",
    "predict_set.drop(columns=['id','Ownership_Interest'],inplace=True)\n",
    "predict_set"
   ]
  },
  {
   "cell_type": "code",
   "execution_count": 156,
   "metadata": {},
   "outputs": [],
   "source": [
    "score = clf.predict(predict_set)\n",
    "submit={'Physician_ID':phys_id_list, 'Score':score}\n",
    "submit_df=pd.DataFrame(data=submit)"
   ]
  },
  {
   "cell_type": "code",
   "execution_count": 157,
   "metadata": {},
   "outputs": [],
   "source": [
    "scoreProb=clf.predict_proba(predict_set)\n",
    "scoreProb_df=pd.DataFrame(data=scoreProb)"
   ]
  },
  {
   "cell_type": "code",
   "execution_count": 158,
   "metadata": {
    "scrolled": true
   },
   "outputs": [
    {
     "data": {
      "text/html": [
       "<div>\n",
       "<style scoped>\n",
       "    .dataframe tbody tr th:only-of-type {\n",
       "        vertical-align: middle;\n",
       "    }\n",
       "\n",
       "    .dataframe tbody tr th {\n",
       "        vertical-align: top;\n",
       "    }\n",
       "\n",
       "    .dataframe thead th {\n",
       "        text-align: right;\n",
       "    }\n",
       "</style>\n",
       "<table border=\"1\" class=\"dataframe\">\n",
       "  <thead>\n",
       "    <tr style=\"text-align: right;\">\n",
       "      <th></th>\n",
       "      <th>Prob_0</th>\n",
       "      <th>Prob_1</th>\n",
       "    </tr>\n",
       "  </thead>\n",
       "  <tbody>\n",
       "    <tr>\n",
       "      <th>0</th>\n",
       "      <td>0.423077</td>\n",
       "      <td>0.576923</td>\n",
       "    </tr>\n",
       "    <tr>\n",
       "      <th>1</th>\n",
       "      <td>0.838462</td>\n",
       "      <td>0.161538</td>\n",
       "    </tr>\n",
       "    <tr>\n",
       "      <th>2</th>\n",
       "      <td>0.707692</td>\n",
       "      <td>0.292308</td>\n",
       "    </tr>\n",
       "    <tr>\n",
       "      <th>3</th>\n",
       "      <td>0.576923</td>\n",
       "      <td>0.423077</td>\n",
       "    </tr>\n",
       "    <tr>\n",
       "      <th>4</th>\n",
       "      <td>0.638462</td>\n",
       "      <td>0.361538</td>\n",
       "    </tr>\n",
       "    <tr>\n",
       "      <th>...</th>\n",
       "      <td>...</td>\n",
       "      <td>...</td>\n",
       "    </tr>\n",
       "    <tr>\n",
       "      <th>1471</th>\n",
       "      <td>0.646154</td>\n",
       "      <td>0.353846</td>\n",
       "    </tr>\n",
       "    <tr>\n",
       "      <th>1472</th>\n",
       "      <td>0.623077</td>\n",
       "      <td>0.376923</td>\n",
       "    </tr>\n",
       "    <tr>\n",
       "      <th>1473</th>\n",
       "      <td>0.730769</td>\n",
       "      <td>0.269231</td>\n",
       "    </tr>\n",
       "    <tr>\n",
       "      <th>1474</th>\n",
       "      <td>0.446154</td>\n",
       "      <td>0.553846</td>\n",
       "    </tr>\n",
       "    <tr>\n",
       "      <th>1475</th>\n",
       "      <td>0.738462</td>\n",
       "      <td>0.261538</td>\n",
       "    </tr>\n",
       "  </tbody>\n",
       "</table>\n",
       "<p>1476 rows × 2 columns</p>\n",
       "</div>"
      ],
      "text/plain": [
       "        Prob_0    Prob_1\n",
       "0     0.423077  0.576923\n",
       "1     0.838462  0.161538\n",
       "2     0.707692  0.292308\n",
       "3     0.576923  0.423077\n",
       "4     0.638462  0.361538\n",
       "...        ...       ...\n",
       "1471  0.646154  0.353846\n",
       "1472  0.623077  0.376923\n",
       "1473  0.730769  0.269231\n",
       "1474  0.446154  0.553846\n",
       "1475  0.738462  0.261538\n",
       "\n",
       "[1476 rows x 2 columns]"
      ]
     },
     "execution_count": 158,
     "metadata": {},
     "output_type": "execute_result"
    }
   ],
   "source": [
    "scoreProb_df.columns=['Prob_0','Prob_1']\n",
    "scoreProb_df"
   ]
  },
  {
   "cell_type": "code",
   "execution_count": 165,
   "metadata": {},
   "outputs": [
    {
     "data": {
      "text/plain": [
       "(1476, 4)"
      ]
     },
     "execution_count": 165,
     "metadata": {},
     "output_type": "execute_result"
    }
   ],
   "source": [
    "submit_df['Prob_0']=0\n",
    "submit_df['Prob_1']=0\n",
    "for i in range(submit_df.shape[0]):\n",
    "    submit_df['Prob_0'].iloc[i]=scoreProb_df['Prob_0'].iloc[i]\n",
    "    submit_df['Prob_1'].iloc[i]=scoreProb_df['Prob_1'].iloc[i]\n",
    "    \n"
   ]
  },
  {
   "cell_type": "code",
   "execution_count": 186,
   "metadata": {},
   "outputs": [],
   "source": [
    "\n",
    "physIDLIST=submit_df.Physician_ID.unique()\n",
    "scrapScore=[None]*1000\n",
    "for i in range(physIDLIST.size):\n",
    "    phys=physIDLIST[i]\n",
    "    df_scrap=submit_df.query('Physician_ID==@phys')\n",
    "    if(df_scrap.Score.nunique()>1):\n",
    "        if(df_scrap.Prob_0.sum()>df_scrap.Prob_1.sum()):\n",
    "            scrapScore[i]=0\n",
    "        else:\n",
    "            scrapScore[i]=1\n",
    "    else:\n",
    "        scrapScore[i]=df_scrap.Score.iloc[0]\n",
    "\n",
    "finalDict={'id':physIDLIST, 'prediction':scrapScore}\n",
    "finalSub=pd.DataFrame(data=finalDict)\n",
    "    "
   ]
  },
  {
   "cell_type": "code",
   "execution_count": 198,
   "metadata": {},
   "outputs": [
    {
     "data": {
      "text/html": [
       "<div>\n",
       "<style scoped>\n",
       "    .dataframe tbody tr th:only-of-type {\n",
       "        vertical-align: middle;\n",
       "    }\n",
       "\n",
       "    .dataframe tbody tr th {\n",
       "        vertical-align: top;\n",
       "    }\n",
       "\n",
       "    .dataframe thead th {\n",
       "        text-align: right;\n",
       "    }\n",
       "</style>\n",
       "<table border=\"1\" class=\"dataframe\">\n",
       "  <thead>\n",
       "    <tr style=\"text-align: right;\">\n",
       "      <th></th>\n",
       "      <th>id</th>\n",
       "      <th>prediction</th>\n",
       "    </tr>\n",
       "  </thead>\n",
       "  <tbody>\n",
       "    <tr>\n",
       "      <th>0</th>\n",
       "      <td>14</td>\n",
       "      <td>1</td>\n",
       "    </tr>\n",
       "    <tr>\n",
       "      <th>1</th>\n",
       "      <td>18</td>\n",
       "      <td>0</td>\n",
       "    </tr>\n",
       "    <tr>\n",
       "      <th>2</th>\n",
       "      <td>42</td>\n",
       "      <td>0</td>\n",
       "    </tr>\n",
       "    <tr>\n",
       "      <th>3</th>\n",
       "      <td>46</td>\n",
       "      <td>0</td>\n",
       "    </tr>\n",
       "    <tr>\n",
       "      <th>4</th>\n",
       "      <td>47</td>\n",
       "      <td>0</td>\n",
       "    </tr>\n",
       "    <tr>\n",
       "      <th>...</th>\n",
       "      <td>...</td>\n",
       "      <td>...</td>\n",
       "    </tr>\n",
       "    <tr>\n",
       "      <th>995</th>\n",
       "      <td>5953</td>\n",
       "      <td>0</td>\n",
       "    </tr>\n",
       "    <tr>\n",
       "      <th>996</th>\n",
       "      <td>5959</td>\n",
       "      <td>1</td>\n",
       "    </tr>\n",
       "    <tr>\n",
       "      <th>997</th>\n",
       "      <td>5964</td>\n",
       "      <td>0</td>\n",
       "    </tr>\n",
       "    <tr>\n",
       "      <th>998</th>\n",
       "      <td>5972</td>\n",
       "      <td>1</td>\n",
       "    </tr>\n",
       "    <tr>\n",
       "      <th>999</th>\n",
       "      <td>5999</td>\n",
       "      <td>0</td>\n",
       "    </tr>\n",
       "  </tbody>\n",
       "</table>\n",
       "<p>1000 rows × 2 columns</p>\n",
       "</div>"
      ],
      "text/plain": [
       "       id  prediction\n",
       "0      14           1\n",
       "1      18           0\n",
       "2      42           0\n",
       "3      46           0\n",
       "4      47           0\n",
       "..    ...         ...\n",
       "995  5953           0\n",
       "996  5959           1\n",
       "997  5964           0\n",
       "998  5972           1\n",
       "999  5999           0\n",
       "\n",
       "[1000 rows x 2 columns]"
      ]
     },
     "execution_count": 198,
     "metadata": {},
     "output_type": "execute_result"
    }
   ],
   "source": [
    "finalSub"
   ]
  },
  {
   "cell_type": "code",
   "execution_count": 196,
   "metadata": {},
   "outputs": [
    {
     "data": {
      "text/html": [
       "<div>\n",
       "<style scoped>\n",
       "    .dataframe tbody tr th:only-of-type {\n",
       "        vertical-align: middle;\n",
       "    }\n",
       "\n",
       "    .dataframe tbody tr th {\n",
       "        vertical-align: top;\n",
       "    }\n",
       "\n",
       "    .dataframe thead th {\n",
       "        text-align: right;\n",
       "    }\n",
       "</style>\n",
       "<table border=\"1\" class=\"dataframe\">\n",
       "  <thead>\n",
       "    <tr style=\"text-align: right;\">\n",
       "      <th></th>\n",
       "      <th>Physician_ID</th>\n",
       "      <th>Score</th>\n",
       "      <th>Prob_0</th>\n",
       "      <th>Prob_1</th>\n",
       "    </tr>\n",
       "  </thead>\n",
       "  <tbody>\n",
       "    <tr>\n",
       "      <th>2524</th>\n",
       "      <td>2525</td>\n",
       "      <td>0</td>\n",
       "      <td>0.569231</td>\n",
       "      <td>0.430769</td>\n",
       "    </tr>\n",
       "    <tr>\n",
       "      <th>8524</th>\n",
       "      <td>2525</td>\n",
       "      <td>0</td>\n",
       "      <td>0.569231</td>\n",
       "      <td>0.430769</td>\n",
       "    </tr>\n",
       "    <tr>\n",
       "      <th>14524</th>\n",
       "      <td>2525</td>\n",
       "      <td>1</td>\n",
       "      <td>0.461538</td>\n",
       "      <td>0.538462</td>\n",
       "    </tr>\n",
       "  </tbody>\n",
       "</table>\n",
       "</div>"
      ],
      "text/plain": [
       "       Physician_ID  Score    Prob_0    Prob_1\n",
       "2524           2525      0  0.569231  0.430769\n",
       "8524           2525      0  0.569231  0.430769\n",
       "14524          2525      1  0.461538  0.538462"
      ]
     },
     "execution_count": 196,
     "metadata": {},
     "output_type": "execute_result"
    }
   ],
   "source": [
    "submit_df.query('Physician_ID==2525')\n"
   ]
  },
  {
   "cell_type": "code",
   "execution_count": 195,
   "metadata": {},
   "outputs": [
    {
     "data": {
      "text/plain": [
       "2525    2\n",
       "2074    2\n",
       "3121    2\n",
       "2641    2\n",
       "5436    2\n",
       "       ..\n",
       "1338    1\n",
       "1335    1\n",
       "5429    1\n",
       "3380    1\n",
       "5716    1\n",
       "Name: Physician_ID, Length: 1000, dtype: int64"
      ]
     },
     "execution_count": 195,
     "metadata": {},
     "output_type": "execute_result"
    }
   ],
   "source": [
    "df_scrap = submit_df.drop(columns=['Prob_0','Prob_1'])\n",
    "df_scrap.drop_duplicates(keep='first', inplace=True)\n",
    "df_scrap.Physician_ID.value_counts()"
   ]
  },
  {
   "cell_type": "code",
   "execution_count": 202,
   "metadata": {},
   "outputs": [
    {
     "data": {
      "text/plain": [
       " 0    523\n",
       "-1    334\n",
       " 1    143\n",
       "Name: prediction, dtype: int64"
      ]
     },
     "execution_count": 202,
     "metadata": {},
     "output_type": "execute_result"
    }
   ],
   "source": [
    "inspect1=pd.read_csv(\"./submission2.csv\")\n",
    "inspect2=pd.read_csv(\"./submission6.csv\")\n",
    "inspect1.sort_values('id')\n",
    "dif=inspect2.prediction-inspect1.prediction\n",
    "dif.value_counts()"
   ]
  },
  {
   "cell_type": "code",
   "execution_count": null,
   "metadata": {},
   "outputs": [],
   "source": []
  }
 ],
 "metadata": {
  "kernelspec": {
   "display_name": "Python 3",
   "language": "python",
   "name": "python3"
  },
  "language_info": {
   "codemirror_mode": {
    "name": "ipython",
    "version": 3
   },
   "file_extension": ".py",
   "mimetype": "text/x-python",
   "name": "python",
   "nbconvert_exporter": "python",
   "pygments_lexer": "ipython3",
   "version": "3.8.5"
  }
 },
 "nbformat": 4,
 "nbformat_minor": 4
}
