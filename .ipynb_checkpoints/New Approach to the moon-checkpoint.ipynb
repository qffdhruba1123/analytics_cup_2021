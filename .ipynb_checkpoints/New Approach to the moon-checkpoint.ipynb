{
 "cells": [
  {
   "cell_type": "code",
   "execution_count": 1,
   "metadata": {},
   "outputs": [],
   "source": [
    "import numpy as np\n",
    "import pandas as pd\n",
    "\n",
    "from datetime import date\n",
    "from datetime import datetime\n",
    "\n",
    "from sklearn.neighbors import KernelDensity\n",
    "\n",
    "import seaborn as sns\n",
    "import random as r\n",
    "\n",
    "from sklearn.ensemble import RandomForestClassifier\n",
    "from sklearn.tree import DecisionTreeClassifier\n",
    "from sklearn import preprocessing\n",
    "# For downsampling\n",
    "from sklearn.utils import resample,shuffle\n",
    "np.random.seed(2021)"
   ]
  },
  {
   "cell_type": "code",
   "execution_count": 2,
   "metadata": {},
   "outputs": [
    {
     "name": "stderr",
     "output_type": "stream",
     "text": [
      "c:\\python38\\lib\\site-packages\\IPython\\core\\interactiveshell.py:3146: DtypeWarning: Columns (26,27,28) have mixed types.Specify dtype option on import or set low_memory=False.\n",
      "  has_raised = await self.run_ast_nodes(code_ast.body, cell_name,\n"
     ]
    }
   ],
   "source": [
    "df_companies = pd.read_csv(\"./data/companies.csv\")\n",
    "df_payments = pd.read_csv(\"./data/payments.csv\")\n",
    "df_physicians = pd.read_csv(\"./data/physicians.csv\")"
   ]
  },
  {
   "cell_type": "code",
   "execution_count": 3,
   "metadata": {},
   "outputs": [],
   "source": [
    "df_companies.rename({\"State\":\"State_Comp\",\"Country\":\"Country_Comp\"}, axis='columns', inplace=True)\n",
    "df_physicians.rename({\"State\":\"State_Phys\",\"Country\":\"Country_Phys\"}, axis='columns', inplace=True)\n",
    "pd.set_option('display.max_columns', None)\n"
   ]
  },
  {
   "cell_type": "code",
   "execution_count": 11,
   "metadata": {},
   "outputs": [
    {
     "name": "stdout",
     "output_type": "stream",
     "text": [
      "   id    set First_Name Middle_Name Last_Name Name_Suffix         City  \\\n",
      "0   1  train      LEIGH           B     HOPPE         NaN  FORT PIERCE   \n",
      "1   2  train     STEVEN         NaN     FRANK         NaN       TOWSON   \n",
      "2   3  train     THOMAS         NaN     COUCH         JR.         TROY   \n",
      "3   4  train     CLAUDE         NaN        SU         NaN     SAVANNAH   \n",
      "4   5  train     ROBERT           C   SCHENCK         NaN  ALBUQUERQUE   \n",
      "\n",
      "  State_Phys     Zipcode   Country_Phys  Province  \\\n",
      "0         FL       34950  UNITED STATES       NaN   \n",
      "1         MD  21204-6808  UNITED STATES       NaN   \n",
      "2         NY  12180-2832  UNITED STATES       NaN   \n",
      "3         GA  31419-1753  UNITED STATES       NaN   \n",
      "4         NM  87131-0001  UNITED STATES       NaN   \n",
      "\n",
      "                                   Primary_Specialty License_State_1  \\\n",
      "0  Allopathic & Osteopathic Physicians|Obstetrics...              FL   \n",
      "1  Allopathic & Osteopathic Physicians|Anesthesio...              MD   \n",
      "2  Podiatric Medicine & Surgery Service Providers...              NY   \n",
      "3  Allopathic & Osteopathic Physicians|Internal M...              GA   \n",
      "4  Allopathic & Osteopathic Physicians|Orthopaedi...              NM   \n",
      "\n",
      "  License_State_2 License_State_3 License_State_4 License_State_5  \\\n",
      "0             NaN             NaN             NaN             NaN   \n",
      "1             NaN             NaN             NaN             NaN   \n",
      "2             NaN             NaN             NaN             NaN   \n",
      "3              SC              AL             NaN             NaN   \n",
      "4             NaN             NaN             NaN             NaN   \n",
      "\n",
      "   Ownership_Interest  \n",
      "0                   0  \n",
      "1                   0  \n",
      "2                   0  \n",
      "3                   0  \n",
      "4                   0  \n",
      "   Record_ID  Physician_ID  Company_ID  Total_Amount_of_Payment_USDollars  \\\n",
      "0          1          2455         597                              48.78   \n",
      "1          2          1534         593                             122.43   \n",
      "2          3          2632         760                              10.26   \n",
      "3          4           550         760                              13.68   \n",
      "4          5          1710         826                              17.17   \n",
      "\n",
      "         Date  Number_of_Payments Form_of_Payment_or_Transfer_of_Value  \\\n",
      "0  08/01/2013                   1           In-kind items and services   \n",
      "1  08/01/2013                   1           In-kind items and services   \n",
      "2  08/01/2013                   1           In-kind items and services   \n",
      "3  08/01/2013                   1           In-kind items and services   \n",
      "4  08/01/2013                   1           In-kind items and services   \n",
      "\n",
      "  Nature_of_Payment_or_Transfer_of_Value City_of_Travel State_of_Travel  \\\n",
      "0                      Food and Beverage            NaN             NaN   \n",
      "1                      Food and Beverage            NaN             NaN   \n",
      "2                              Education            NaN             NaN   \n",
      "3                              Education            NaN             NaN   \n",
      "4                      Food and Beverage            NaN             NaN   \n",
      "\n",
      "  Country_of_Travel Ownership_Indicator   Third_Party_Recipient Charity  \\\n",
      "0               NaN                  No  No Third Party Payment     NaN   \n",
      "1               NaN                  No  No Third Party Payment      No   \n",
      "2               NaN                  No  No Third Party Payment     NaN   \n",
      "3               NaN                  No  No Third Party Payment     NaN   \n",
      "4               NaN                  No  No Third Party Payment     NaN   \n",
      "\n",
      "  Third_Party_Covered Contextual_Information Related_Product_Indicator  \\\n",
      "0                 NaN                    NaN                   Covered   \n",
      "1                 NaN                    NaN                   Covered   \n",
      "2                 NaN                    NaN                   Covered   \n",
      "3                 NaN                    NaN                   Covered   \n",
      "4                 NaN                    NaN                   Covered   \n",
      "\n",
      "  Product_Code_1 Product_Code_2 Product_Code_3            Product_Type_1  \\\n",
      "0            NaN            NaN            NaN  Device or Medical Supply   \n",
      "1     1529370001            NaN            NaN        Drug or Biological   \n",
      "2            NaN            NaN            NaN        Drug or Biological   \n",
      "3            NaN            NaN            NaN        Drug or Biological   \n",
      "4     5254420431            NaN            NaN        Drug or Biological   \n",
      "\n",
      "  Product_Type_2 Product_Type_3 Product_Name_1 Product_Name_2 Product_Name_3  \\\n",
      "0            NaN            NaN     Pacemakers            NaN            NaN   \n",
      "1            NaN            NaN        Vascepa            NaN            NaN   \n",
      "2            NaN            NaN         ACTHAR            NaN            NaN   \n",
      "3            NaN            NaN         ACTHAR            NaN            NaN   \n",
      "4            NaN            NaN       GENERESS            NaN            NaN   \n",
      "\n",
      "  Product_Category_1 Product_Category_2 Product_Category_3  \n",
      "0                NaN                NaN                NaN  \n",
      "1                NaN                NaN                NaN  \n",
      "2                NaN                NaN                NaN  \n",
      "3                NaN                NaN                NaN  \n",
      "4                NaN                NaN                NaN  \n"
     ]
    }
   ],
   "source": [
    "print(df_physicians.head())\n",
    "print(df_payments.head())\n"
   ]
  },
  {
   "cell_type": "code",
   "execution_count": 10,
   "metadata": {},
   "outputs": [],
   "source": [
    "def ownInterest(id):\n",
    "    if(df_payments.query('Physician_ID==@id and Ownership_Indicator==\"Yes\"').shape[0]>0):\n",
    "        return 1\n",
    "    else:\n",
    "        return 0\n",
    "    \n",
    "df_physicians['Ownership_Interest']=df_physicians['id'].apply(ownInterest)"
   ]
  },
  {
   "cell_type": "code",
   "execution_count": 13,
   "metadata": {},
   "outputs": [
    {
     "data": {
      "text/plain": [
       "0    4700\n",
       "1     300\n",
       "Name: Ownership_Interest, dtype: int64"
      ]
     },
     "execution_count": 13,
     "metadata": {},
     "output_type": "execute_result"
    }
   ],
   "source": [
    "df_physicians.query('set==\"train\"')['Ownership_Interest'].value_counts()"
   ]
  },
  {
   "cell_type": "code",
   "execution_count": 16,
   "metadata": {},
   "outputs": [],
   "source": [
    "#drop Ownership Indicators=yes records\n",
    "df_scrap=df_payments.query('Ownership_Indicator==\"Yes\"', engine='python')\n",
    "df_payments=pd.concat([df_payments, df_scrap]).drop_duplicates(keep=False)\n",
    "\n"
   ]
  },
  {
   "cell_type": "code",
   "execution_count": null,
   "metadata": {},
   "outputs": [],
   "source": []
  }
 ],
 "metadata": {
  "kernelspec": {
   "display_name": "Python 3",
   "language": "python",
   "name": "python3"
  },
  "language_info": {
   "codemirror_mode": {
    "name": "ipython",
    "version": 3
   },
   "file_extension": ".py",
   "mimetype": "text/x-python",
   "name": "python",
   "nbconvert_exporter": "python",
   "pygments_lexer": "ipython3",
   "version": "3.8.5"
  }
 },
 "nbformat": 4,
 "nbformat_minor": 4
}
